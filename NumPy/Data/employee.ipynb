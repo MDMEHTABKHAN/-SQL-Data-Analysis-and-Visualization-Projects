{
 "cells": [
  {
   "cell_type": "code",
   "execution_count": 1,
   "id": "2e719a3a",
   "metadata": {},
   "outputs": [],
   "source": [
    "import numpy as np"
   ]
  },
  {
   "cell_type": "code",
   "execution_count": null,
   "id": "3ad1f7d9",
   "metadata": {},
   "outputs": [
    {
     "ename": "ModuleNotFoundError",
     "evalue": "No module named 'pandas'",
     "output_type": "error",
     "traceback": [
      "\u001b[31m---------------------------------------------------------------------------\u001b[39m",
      "\u001b[31mModuleNotFoundError\u001b[39m                       Traceback (most recent call last)",
      "\u001b[36mCell\u001b[39m\u001b[36m \u001b[39m\u001b[32mIn[2]\u001b[39m\u001b[32m, line 1\u001b[39m\n\u001b[32m----> \u001b[39m\u001b[32m1\u001b[39m \u001b[38;5;28;01mimport\u001b[39;00m\u001b[38;5;250m \u001b[39m\u001b[34;01mpandas\u001b[39;00m\u001b[38;5;250m \u001b[39m\u001b[38;5;28;01mas\u001b[39;00m\u001b[38;5;250m \u001b[39m\u001b[34;01mpd\u001b[39;00m\n\u001b[32m      3\u001b[39m data = {\n\u001b[32m      4\u001b[39m     \u001b[33m\"\u001b[39m\u001b[33mEmp_ID\u001b[39m\u001b[33m\"\u001b[39m:[\u001b[32m101\u001b[39m,\u001b[32m102\u001b[39m,\u001b[32m103\u001b[39m,\u001b[32m104\u001b[39m,\u001b[32m105\u001b[39m,\u001b[32m106\u001b[39m,\u001b[32m107\u001b[39m,\u001b[32m108\u001b[39m,\u001b[32m109\u001b[39m,\u001b[32m110\u001b[39m,\u001b[32m111\u001b[39m,\u001b[32m112\u001b[39m,\u001b[32m113\u001b[39m,\u001b[32m114\u001b[39m,\u001b[32m115\u001b[39m,\u001b[32m116\u001b[39m,\u001b[32m117\u001b[39m,\u001b[32m118\u001b[39m,\u001b[32m119\u001b[39m,\u001b[32m120\u001b[39m,\u001b[32m121\u001b[39m,\u001b[32m122\u001b[39m,\u001b[32m123\u001b[39m,\u001b[32m124\u001b[39m,\u001b[32m125\u001b[39m,\u001b[32m126\u001b[39m,\u001b[32m127\u001b[39m,\u001b[32m128\u001b[39m,\u001b[32m129\u001b[39m,\u001b[32m130\u001b[39m],\n\u001b[32m      5\u001b[39m     \u001b[33m\"\u001b[39m\u001b[33mName\u001b[39m\u001b[33m\"\u001b[39m: [\n\u001b[32m   (...)\u001b[39m\u001b[32m     34\u001b[39m     ]\n\u001b[32m     35\u001b[39m }\n\u001b[32m     37\u001b[39m df = pd.DataFrame(data)\n",
      "\u001b[31mModuleNotFoundError\u001b[39m: No module named 'pandas'"
     ]
    }
   ],
   "source": []
  }
 ],
 "metadata": {
  "kernelspec": {
   "display_name": "venv",
   "language": "python",
   "name": "python3"
  },
  "language_info": {
   "codemirror_mode": {
    "name": "ipython",
    "version": 3
   },
   "file_extension": ".py",
   "mimetype": "text/x-python",
   "name": "python",
   "nbconvert_exporter": "python",
   "pygments_lexer": "ipython3",
   "version": "3.12.5"
  }
 },
 "nbformat": 4,
 "nbformat_minor": 5
}
