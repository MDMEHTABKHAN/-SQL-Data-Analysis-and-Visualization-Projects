{
 "cells": [
  {
   "cell_type": "markdown",
   "id": "dc9c21dc",
   "metadata": {},
   "source": [
    "# import library"
   ]
  },
  {
   "cell_type": "code",
   "execution_count": 7,
   "id": "851a261f",
   "metadata": {},
   "outputs": [],
   "source": [
    "import numpy as np"
   ]
  },
  {
   "cell_type": "code",
   "execution_count": 8,
   "id": "77eb0c1b",
   "metadata": {},
   "outputs": [
    {
     "name": "stdout",
     "output_type": "stream",
     "text": [
      "=== Zomato === sales === data ===\n"
     ]
    }
   ],
   "source": [
    "# DATA STRUCTURE: [restaurant_id, 2021, 2022, 2023, 2024]\n",
    "\n",
    "sales_data = np.array([\n",
    "    [1, 150000, 180000,220000,250000],\n",
    "    [2, 120000,140000,160000,190000],\n",
    "    [3,200000, 230000,260000, 300000],\n",
    "    [4,180000,210000,240000,270000],\n",
    "    [5,160000,185000, 205000,230000]\n",
    "])\n",
    "\n",
    "print(\"=== Zomato === sales === data ===\")\n",
    "\n"
   ]
  },
  {
   "cell_type": "code",
   "execution_count": 11,
   "id": "11346a3c",
   "metadata": {},
   "outputs": [
    {
     "name": "stdout",
     "output_type": "stream",
     "text": [
      "(5, 5)\n",
      "2\n",
      "25\n",
      "int64\n"
     ]
    }
   ],
   "source": [
    "print(sales_data.shape)   # rows, columns\n",
    "print(sales_data.ndim)    # number of dimensions\n",
    "print(sales_data.size)    # total elements\n",
    "print(sales_data.dtype)   # data type\n"
   ]
  },
  {
   "cell_type": "code",
   "execution_count": 10,
   "id": "309b1b22",
   "metadata": {},
   "outputs": [
    {
     "name": "stdout",
     "output_type": "stream",
     "text": [
      "sales data first three:  [[     1 150000 180000 220000 250000]\n",
      " [     2 120000 140000 160000 190000]\n",
      " [     3 200000 230000 260000 300000]]\n"
     ]
    }
   ],
   "source": [
    "print(\"sales data first three: \", sales_data[0:3])"
   ]
  },
  {
   "cell_type": "markdown",
   "id": "2cd40e5d",
   "metadata": {},
   "source": [
    "# Indexing & Slicing"
   ]
  },
  {
   "cell_type": "code",
   "execution_count": 12,
   "id": "c1aadfd3",
   "metadata": {},
   "outputs": [
    {
     "name": "stdout",
     "output_type": "stream",
     "text": [
      "[     1 150000 180000 220000 250000]\n",
      "[1 2 3 4 5]\n",
      "[150000 120000 200000 180000 160000]\n",
      "[200000 230000 260000 300000]\n"
     ]
    }
   ],
   "source": [
    "# Get the first row\n",
    "print(sales_data[0])\n",
    "\n",
    "# Get the first column (IDs)\n",
    "print(sales_data[:, 0])\n",
    "\n",
    "# Get sales of Q1 for all products\n",
    "print(sales_data[:, 1])\n",
    "\n",
    "# Sales of product 3 across all quarters\n",
    "print(sales_data[2, 1:])\n"
   ]
  },
  {
   "cell_type": "markdown",
   "id": "60a3b51d",
   "metadata": {},
   "source": [
    "# Aggregations"
   ]
  },
  {
   "cell_type": "code",
   "execution_count": 13,
   "id": "9d77214f",
   "metadata": {},
   "outputs": [
    {
     "name": "stdout",
     "output_type": "stream",
     "text": [
      "[800000 610000 990000 900000 780000]\n",
      "[162000. 189000. 217000. 248000.]\n",
      "300000\n",
      "3\n"
     ]
    }
   ],
   "source": [
    "# Total sales for each product\n",
    "print(np.sum(sales_data[:, 1:], axis=1))\n",
    "\n",
    "# Average sales per quarter\n",
    "print(np.mean(sales_data[:, 1:], axis=0))\n",
    "\n",
    "# Maximum sales overall\n",
    "print(np.max(sales_data[:, 1:]))\n",
    "\n",
    "# Which product had the highest total sales?\n",
    "total_sales = np.sum(sales_data[:, 1:], axis=1)\n",
    "print(np.argmax(total_sales) + 1)   # +1 for product ID\n"
   ]
  }
 ],
 "metadata": {
  "kernelspec": {
   "display_name": "venv",
   "language": "python",
   "name": "python3"
  },
  "language_info": {
   "codemirror_mode": {
    "name": "ipython",
    "version": 3
   },
   "file_extension": ".py",
   "mimetype": "text/x-python",
   "name": "python",
   "nbconvert_exporter": "python",
   "pygments_lexer": "ipython3",
   "version": "3.12.5"
  }
 },
 "nbformat": 4,
 "nbformat_minor": 5
}
