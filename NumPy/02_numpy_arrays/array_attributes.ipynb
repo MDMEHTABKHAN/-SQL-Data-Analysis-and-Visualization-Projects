{
 "cells": [
  {
   "cell_type": "code",
   "execution_count": 1,
   "id": "75809180",
   "metadata": {},
   "outputs": [
    {
     "name": "stdout",
     "output_type": "stream",
     "text": [
      "(2, 3)\n",
      "6\n",
      "2\n",
      "int64\n",
      "8\n",
      "48\n"
     ]
    }
   ],
   "source": [
    "import numpy as np\n",
    "arr = np.array([[1, 2, 3], [4, 5, 6]])\n",
    "\n",
    "print(arr.shape)    # (2, 3) → 2 rows, 3 columns\n",
    "print(arr.size)     # 6 → total elements\n",
    "print(arr.ndim)     # 2 → number of dimensions\n",
    "print(arr.dtype)    # int64 → data type of elements\n",
    "print(arr.itemsize) # 8 → size of one element (in bytes)\n",
    "print(arr.nbytes)   # 48 → total memory used (size * itemsize)\n"
   ]
  }
 ],
 "metadata": {
  "kernelspec": {
   "display_name": "ds_env",
   "language": "python",
   "name": "python3"
  },
  "language_info": {
   "codemirror_mode": {
    "name": "ipython",
    "version": 3
   },
   "file_extension": ".py",
   "mimetype": "text/x-python",
   "name": "python",
   "nbconvert_exporter": "python",
   "pygments_lexer": "ipython3",
   "version": "3.12.5"
  }
 },
 "nbformat": 4,
 "nbformat_minor": 5
}
