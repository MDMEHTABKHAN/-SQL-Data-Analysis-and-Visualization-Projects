{
 "cells": [
  {
   "cell_type": "code",
   "execution_count": 2,
   "id": "c7ec805e",
   "metadata": {},
   "outputs": [
    {
     "name": "stdout",
     "output_type": "stream",
     "text": [
      "SUM\n",
      " 15\n",
      "mean \n",
      " 3.0\n",
      "median \n",
      " 3.0\n",
      "standard values \n",
      " 1.4142135623730951\n",
      "variance values \n",
      " 2.0\n",
      "min values \n",
      " 1\n",
      "min values \n",
      " 5\n"
     ]
    }
   ],
   "source": [
    "import numpy as np\n",
    "\n",
    "arr = np.array([1, 2, 3, 4, 5])\n",
    "\n",
    "print(\"SUM\\n\", np.sum(arr))\n",
    "print(\"mean \\n\",np.mean(arr))\n",
    "print(\"median \\n\",np.median(arr))\n",
    "print(\"standard values \\n\",np.std(arr))\n",
    "print(\"variance values \\n\", np.var(arr))\n",
    "print(\"min values \\n\", np.min(arr))\n",
    "print(\"min values \\n\", np.max(arr))\n"
   ]
  },
  {
   "cell_type": "code",
   "execution_count": 3,
   "id": "015f970b",
   "metadata": {},
   "outputs": [
    {
     "name": "stdout",
     "output_type": "stream",
     "text": [
      "[5 7 9]\n",
      "[ 6 15]\n",
      "[2.5 3.5 4.5]\n",
      "[2. 5.]\n",
      "[4 5 6]\n",
      "[1 4]\n"
     ]
    }
   ],
   "source": [
    "arr = np.array([[1, 2, 3],\n",
    "                [4, 5, 6]])\n",
    "\n",
    "print(np.sum(arr, axis=0))  # [5 7 9]   (column-wise sum)\n",
    "print(np.sum(arr, axis=1))  # [ 6 15]   (row-wise sum)\n",
    "\n",
    "print(np.mean(arr, axis=0)) # [2.5 3.5 4.5]\n",
    "print(np.mean(arr, axis=1)) # [2.0 5.0]\n",
    "\n",
    "print(np.max(arr, axis=0))  # [4 5 6]\n",
    "print(np.min(arr, axis=1))  # [1 4]\n"
   ]
  }
 ],
 "metadata": {
  "kernelspec": {
   "display_name": "ds_env",
   "language": "python",
   "name": "python3"
  },
  "language_info": {
   "codemirror_mode": {
    "name": "ipython",
    "version": 3
   },
   "file_extension": ".py",
   "mimetype": "text/x-python",
   "name": "python",
   "nbconvert_exporter": "python",
   "pygments_lexer": "ipython3",
   "version": "3.12.5"
  }
 },
 "nbformat": 4,
 "nbformat_minor": 5
}
