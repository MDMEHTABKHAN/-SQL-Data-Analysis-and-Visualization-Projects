{
 "cells": [
  {
   "cell_type": "code",
   "execution_count": 1,
   "id": "ac563fb3",
   "metadata": {},
   "outputs": [],
   "source": [
    "import pandas as pd\n",
    "import matplotlib.pyplot as plt"
   ]
  },
  {
   "cell_type": "code",
   "execution_count": 5,
   "id": "6cf14631",
   "metadata": {},
   "outputs": [
    {
     "name": "stdout",
     "output_type": "stream",
     "text": [
      "         Date Product_Category     Product  Sales_Quantity  Unit_Price\n",
      "0  2023-01-01      Electronics      Laptop              10         800\n",
      "1  2023-01-01      Electronics  Smartphone               5         600\n",
      "2  2023-01-01         Clothing     T-Shirt              20          20\n",
      "3  2023-01-02         Clothing       Jeans              15          50\n",
      "4  2023-01-01      Electronics      Laptop              10         800\n",
      "5  2023-01-02      Electronics  Headphones               8          30\n",
      "6  2023-01-02      Accessories       Watch               3         120\n"
     ]
    }
   ],
   "source": [
    "import pandas as pd\n",
    "\n",
    "# Create the DataFrame\n",
    "data = {\n",
    "    'Date': [\n",
    "        '2023-01-01', '2023-01-01', '2023-01-01',\n",
    "        '2023-01-02', '2023-01-01', '2023-01-02',\n",
    "        '2023-01-02'\n",
    "    ],\n",
    "    'Product_Category': [\n",
    "        'Electronics', 'Electronics', 'Clothing',\n",
    "        'Clothing', 'Electronics', 'Electronics',\n",
    "        'Accessories'\n",
    "    ],\n",
    "    'Product': [\n",
    "        'Laptop', 'Smartphone', 'T-Shirt',\n",
    "        'Jeans', 'Laptop', 'Headphones',\n",
    "        'Watch'\n",
    "    ],\n",
    "    'Sales_Quantity': [10, 5, 20, 15, 10, 8, 3],\n",
    "    'Unit_Price': [800, 600, 20, 50, 800, 30, 120]\n",
    "}\n",
    "\n",
    "df = pd.DataFrame(data)\n",
    "print(df)\n"
   ]
  },
  {
   "cell_type": "markdown",
   "id": "32d00ac7",
   "metadata": {},
   "source": [
    " 1. Calculate the total revenue for each product category"
   ]
  },
  {
   "cell_type": "code",
   "execution_count": 7,
   "id": "17dca883",
   "metadata": {},
   "outputs": [
    {
     "data": {
      "text/html": [
       "<div>\n",
       "<style scoped>\n",
       "    .dataframe tbody tr th:only-of-type {\n",
       "        vertical-align: middle;\n",
       "    }\n",
       "\n",
       "    .dataframe tbody tr th {\n",
       "        vertical-align: top;\n",
       "    }\n",
       "\n",
       "    .dataframe thead th {\n",
       "        text-align: right;\n",
       "    }\n",
       "</style>\n",
       "<table border=\"1\" class=\"dataframe\">\n",
       "  <thead>\n",
       "    <tr style=\"text-align: right;\">\n",
       "      <th></th>\n",
       "      <th>Date</th>\n",
       "      <th>Product_Category</th>\n",
       "      <th>Product</th>\n",
       "      <th>Sales_Quantity</th>\n",
       "      <th>Unit_Price</th>\n",
       "      <th>Revenue</th>\n",
       "    </tr>\n",
       "  </thead>\n",
       "  <tbody>\n",
       "    <tr>\n",
       "      <th>0</th>\n",
       "      <td>2023-01-01</td>\n",
       "      <td>Electronics</td>\n",
       "      <td>Laptop</td>\n",
       "      <td>10</td>\n",
       "      <td>800</td>\n",
       "      <td>8000</td>\n",
       "    </tr>\n",
       "    <tr>\n",
       "      <th>1</th>\n",
       "      <td>2023-01-01</td>\n",
       "      <td>Electronics</td>\n",
       "      <td>Smartphone</td>\n",
       "      <td>5</td>\n",
       "      <td>600</td>\n",
       "      <td>3000</td>\n",
       "    </tr>\n",
       "    <tr>\n",
       "      <th>2</th>\n",
       "      <td>2023-01-01</td>\n",
       "      <td>Clothing</td>\n",
       "      <td>T-Shirt</td>\n",
       "      <td>20</td>\n",
       "      <td>20</td>\n",
       "      <td>400</td>\n",
       "    </tr>\n",
       "    <tr>\n",
       "      <th>3</th>\n",
       "      <td>2023-01-02</td>\n",
       "      <td>Clothing</td>\n",
       "      <td>Jeans</td>\n",
       "      <td>15</td>\n",
       "      <td>50</td>\n",
       "      <td>750</td>\n",
       "    </tr>\n",
       "    <tr>\n",
       "      <th>4</th>\n",
       "      <td>2023-01-01</td>\n",
       "      <td>Electronics</td>\n",
       "      <td>Laptop</td>\n",
       "      <td>10</td>\n",
       "      <td>800</td>\n",
       "      <td>8000</td>\n",
       "    </tr>\n",
       "    <tr>\n",
       "      <th>5</th>\n",
       "      <td>2023-01-02</td>\n",
       "      <td>Electronics</td>\n",
       "      <td>Headphones</td>\n",
       "      <td>8</td>\n",
       "      <td>30</td>\n",
       "      <td>240</td>\n",
       "    </tr>\n",
       "    <tr>\n",
       "      <th>6</th>\n",
       "      <td>2023-01-02</td>\n",
       "      <td>Accessories</td>\n",
       "      <td>Watch</td>\n",
       "      <td>3</td>\n",
       "      <td>120</td>\n",
       "      <td>360</td>\n",
       "    </tr>\n",
       "  </tbody>\n",
       "</table>\n",
       "</div>"
      ],
      "text/plain": [
       "         Date Product_Category     Product  Sales_Quantity  Unit_Price  \\\n",
       "0  2023-01-01      Electronics      Laptop              10         800   \n",
       "1  2023-01-01      Electronics  Smartphone               5         600   \n",
       "2  2023-01-01         Clothing     T-Shirt              20          20   \n",
       "3  2023-01-02         Clothing       Jeans              15          50   \n",
       "4  2023-01-01      Electronics      Laptop              10         800   \n",
       "5  2023-01-02      Electronics  Headphones               8          30   \n",
       "6  2023-01-02      Accessories       Watch               3         120   \n",
       "\n",
       "   Revenue  \n",
       "0     8000  \n",
       "1     3000  \n",
       "2      400  \n",
       "3      750  \n",
       "4     8000  \n",
       "5      240  \n",
       "6      360  "
      ]
     },
     "execution_count": 7,
     "metadata": {},
     "output_type": "execute_result"
    }
   ],
   "source": [
    "df['Revenue'] = df['Sales_Quantity'] * df['Unit_Price']\n",
    "df"
   ]
  },
  {
   "cell_type": "code",
   "execution_count": 10,
   "id": "888a5edd",
   "metadata": {},
   "outputs": [
    {
     "name": "stdout",
     "output_type": "stream",
     "text": [
      "Product_Category\n",
      "Accessories      360\n",
      "Clothing        1150\n",
      "Electronics    19240\n",
      "Name: Revenue, dtype: int64\n"
     ]
    }
   ],
   "source": [
    "total_revenue_by_category = df.groupby('Product_Category')['Revenue'].sum()\n",
    "print(total_revenue_by_category)\n"
   ]
  },
  {
   "cell_type": "markdown",
   "id": "68b14ff4",
   "metadata": {},
   "source": [
    " 2. Determine the average sales quantity for each product category."
   ]
  },
  {
   "cell_type": "code",
   "execution_count": 11,
   "id": "eeb6ba2a",
   "metadata": {},
   "outputs": [
    {
     "name": "stdout",
     "output_type": "stream",
     "text": [
      "Product_Category\n",
      "Accessories     3.00\n",
      "Clothing       17.50\n",
      "Electronics     8.25\n",
      "Name: Sales_Quantity, dtype: float64\n"
     ]
    }
   ],
   "source": [
    "avg_sales_by_category = df.groupby('Product_Category')['Sales_Quantity'].mean()\n",
    "print(avg_sales_by_category)\n"
   ]
  },
  {
   "cell_type": "markdown",
   "id": "6856e196",
   "metadata": {},
   "source": [
    "3. Product with the highest total revenue"
   ]
  },
  {
   "cell_type": "code",
   "execution_count": 12,
   "id": "82b648f9",
   "metadata": {},
   "outputs": [
    {
     "name": "stdout",
     "output_type": "stream",
     "text": [
      "Highest revenue product: Laptop with revenue 16000\n"
     ]
    }
   ],
   "source": [
    "product_revenue = df.groupby('Product')['Revenue'].sum()\n",
    "highest_revenue_product = product_revenue.idxmax()\n",
    "highest_revenue_value = product_revenue.max()\n",
    "\n",
    "print(f\"Highest revenue product: {highest_revenue_product} with revenue {highest_revenue_value}\")\n"
   ]
  },
  {
   "cell_type": "markdown",
   "id": "a5cc2a0d",
   "metadata": {},
   "source": [
    "4. Line chart of sales quantity trend over days"
   ]
  },
  {
   "cell_type": "code",
   "execution_count": 13,
   "id": "48f4281f",
   "metadata": {},
   "outputs": [
    {
     "data": {
      "image/png": "[encoded data removed]",
      "text/plain": [
       "<Figure size 600x400 with 1 Axes>"
      ]
     },
     "metadata": {},
     "output_type": "display_data"
    }
   ],
   "source": [
    "# Aggregate sales by date\n",
    "daily_sales = df.groupby('Date')['Sales_Quantity'].sum()\n",
    "\n",
    "# Plot\n",
    "plt.figure(figsize=(6,4))\n",
    "plt.plot(daily_sales.index, daily_sales.values, marker='o', linestyle='-', color='b')\n",
    "plt.title(\"Sales Quantity Trend\")\n",
    "plt.xlabel(\"Date\")\n",
    "plt.ylabel(\"Total Sales Quantity\")\n",
    "plt.grid(True)\n",
    "plt.show()\n"
   ]
  }
 ],
 "metadata": {
  "kernelspec": {
   "display_name": "ds_env",
   "language": "python",
   "name": "python3"
  },
  "language_info": {
   "codemirror_mode": {
    "name": "ipython",
    "version": 3
   },
   "file_extension": ".py",
   "mimetype": "text/x-python",
   "name": "python",
   "nbconvert_exporter": "python",
   "pygments_lexer": "ipython3",
   "version": "3.12.5"
  }
 },
 "nbformat": 4,
 "nbformat_minor": 5
}
