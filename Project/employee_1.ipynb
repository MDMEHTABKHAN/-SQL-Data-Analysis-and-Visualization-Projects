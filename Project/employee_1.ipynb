{
 "cells": [
  {
   "cell_type": "code",
   "execution_count": 1,
   "id": "c4d65115",
   "metadata": {},
   "outputs": [],
   "source": [
    "import numpy as np\n",
    "import pandas as pd"
   ]
  },
  {
   "cell_type": "code",
   "execution_count": null,
   "id": "95ace6aa",
   "metadata": {},
   "outputs": [
    {
     "name": "stdout",
     "output_type": "stream",
     "text": [
      "\n",
      " print first 5 rows of the dataframe\n"
     ]
    },
    {
     "data": {
      "text/html": [
       "<div>\n",
       "<style scoped>\n",
       "    .dataframe tbody tr th:only-of-type {\n",
       "        vertical-align: middle;\n",
       "    }\n",
       "\n",
       "    .dataframe tbody tr th {\n",
       "        vertical-align: top;\n",
       "    }\n",
       "\n",
       "    .dataframe thead th {\n",
       "        text-align: right;\n",
       "    }\n",
       "</style>\n",
       "<table border=\"1\" class=\"dataframe\">\n",
       "  <thead>\n",
       "    <tr style=\"text-align: right;\">\n",
       "      <th></th>\n",
       "      <th>Employee_ID</th>\n",
       "      <th>Name</th>\n",
       "      <th>Department</th>\n",
       "      <th>Salary</th>\n",
       "      <th>Age</th>\n",
       "      <th>Experience_Years</th>\n",
       "      <th>Performance_Score</th>\n",
       "    </tr>\n",
       "  </thead>\n",
       "  <tbody>\n",
       "    <tr>\n",
       "      <th>10</th>\n",
       "      <td>1011</td>\n",
       "      <td>Karen</td>\n",
       "      <td>HR</td>\n",
       "      <td>51000.0</td>\n",
       "      <td>27.0</td>\n",
       "      <td>NaN</td>\n",
       "      <td>84.0</td>\n",
       "    </tr>\n",
       "    <tr>\n",
       "      <th>11</th>\n",
       "      <td>1012</td>\n",
       "      <td>Leo</td>\n",
       "      <td>NaN</td>\n",
       "      <td>72000.0</td>\n",
       "      <td>36.0</td>\n",
       "      <td>9.0</td>\n",
       "      <td>NaN</td>\n",
       "    </tr>\n",
       "    <tr>\n",
       "      <th>12</th>\n",
       "      <td>1013</td>\n",
       "      <td>Mia</td>\n",
       "      <td>IT</td>\n",
       "      <td>NaN</td>\n",
       "      <td>29.0</td>\n",
       "      <td>4.0</td>\n",
       "      <td>89.0</td>\n",
       "    </tr>\n",
       "    <tr>\n",
       "      <th>13</th>\n",
       "      <td>1014</td>\n",
       "      <td>Nathan</td>\n",
       "      <td>Finance</td>\n",
       "      <td>62000.0</td>\n",
       "      <td>NaN</td>\n",
       "      <td>11.0</td>\n",
       "      <td>79.0</td>\n",
       "    </tr>\n",
       "    <tr>\n",
       "      <th>14</th>\n",
       "      <td>1015</td>\n",
       "      <td>Olivia</td>\n",
       "      <td>Marketing</td>\n",
       "      <td>56000.0</td>\n",
       "      <td>32.0</td>\n",
       "      <td>7.0</td>\n",
       "      <td>91.0</td>\n",
       "    </tr>\n",
       "    <tr>\n",
       "      <th>15</th>\n",
       "      <td>1016</td>\n",
       "      <td>Peter</td>\n",
       "      <td>HR</td>\n",
       "      <td>53000.0</td>\n",
       "      <td>28.0</td>\n",
       "      <td>3.0</td>\n",
       "      <td>86.0</td>\n",
       "    </tr>\n",
       "    <tr>\n",
       "      <th>16</th>\n",
       "      <td>1017</td>\n",
       "      <td>Quinn</td>\n",
       "      <td>IT</td>\n",
       "      <td>68000.0</td>\n",
       "      <td>34.0</td>\n",
       "      <td>10.0</td>\n",
       "      <td>93.0</td>\n",
       "    </tr>\n",
       "    <tr>\n",
       "      <th>17</th>\n",
       "      <td>1018</td>\n",
       "      <td>Rachel</td>\n",
       "      <td>NaN</td>\n",
       "      <td>59000.0</td>\n",
       "      <td>31.0</td>\n",
       "      <td>6.0</td>\n",
       "      <td>81.0</td>\n",
       "    </tr>\n",
       "    <tr>\n",
       "      <th>18</th>\n",
       "      <td>1019</td>\n",
       "      <td>Sam</td>\n",
       "      <td>Finance</td>\n",
       "      <td>NaN</td>\n",
       "      <td>40.0</td>\n",
       "      <td>13.0</td>\n",
       "      <td>77.0</td>\n",
       "    </tr>\n",
       "    <tr>\n",
       "      <th>19</th>\n",
       "      <td>1020</td>\n",
       "      <td>Tina</td>\n",
       "      <td>Marketing</td>\n",
       "      <td>54000.0</td>\n",
       "      <td>29.0</td>\n",
       "      <td>NaN</td>\n",
       "      <td>NaN</td>\n",
       "    </tr>\n",
       "  </tbody>\n",
       "</table>\n",
       "</div>"
      ],
      "text/plain": [
       "    Employee_ID    Name Department   Salary   Age  Experience_Years  \\\n",
       "10         1011   Karen         HR  51000.0  27.0               NaN   \n",
       "11         1012     Leo        NaN  72000.0  36.0               9.0   \n",
       "12         1013     Mia         IT      NaN  29.0               4.0   \n",
       "13         1014  Nathan    Finance  62000.0   NaN              11.0   \n",
       "14         1015  Olivia  Marketing  56000.0  32.0               7.0   \n",
       "15         1016   Peter         HR  53000.0  28.0               3.0   \n",
       "16         1017   Quinn         IT  68000.0  34.0              10.0   \n",
       "17         1018  Rachel        NaN  59000.0  31.0               6.0   \n",
       "18         1019     Sam    Finance      NaN  40.0              13.0   \n",
       "19         1020    Tina  Marketing  54000.0  29.0               NaN   \n",
       "\n",
       "    Performance_Score  \n",
       "10               84.0  \n",
       "11                NaN  \n",
       "12               89.0  \n",
       "13               79.0  \n",
       "14               91.0  \n",
       "15               86.0  \n",
       "16               93.0  \n",
       "17               81.0  \n",
       "18               77.0  \n",
       "19                NaN  "
      ]
     },
     "execution_count": 4,
     "metadata": {},
     "output_type": "execute_result"
    }
   ],
   "source": [
    "data = {\n",
    "    'Employee_ID': range(1001, 1021),\n",
    "    'Name': ['Alice', 'Bob', 'Charlie', 'Diana', 'Eve', 'Frank', 'Grace', 'Henry', 'Ivy', 'Jack',\n",
    "            'Karen', 'Leo', 'Mia', 'Nathan', 'Olivia', 'Peter', 'Quinn', 'Rachel', 'Sam', 'Tina'],\n",
    "    'Department': ['HR', 'IT', 'Finance', 'IT', 'Marketing', np.nan, 'HR', 'Finance', 'IT', 'Marketing',\n",
    "                'HR', np.nan, 'IT', 'Finance', 'Marketing', 'HR', 'IT', np.nan, 'Finance', 'Marketing'],\n",
    "    'Salary': [50000, 75000, 60000, np.nan, 55000, 65000, 52000, np.nan, 70000, 58000,\n",
    "            51000, 72000, np.nan, 62000, 56000, 53000, 68000, 59000, np.nan, 54000],\n",
    "    'Age': [28, 35, 42, 29, 31, np.nan, 26, 38, 33, 30, \n",
    "            27, 36, 29, np.nan, 32, 28, 34, 31, 40, 29],\n",
    "    'Experience_Years': [3, 8, 15, 4, 6, 7, 2, 12, 8, 5,\n",
    "                        np.nan, 9, 4, 11, 7, 3, 10, 6, 13, np.nan],\n",
    "    'Performance_Score': [85, 92, 78, np.nan, 88, 76, 90, 82, 95, 87,\n",
    "                        84, np.nan, 89, 79, 91, 86, 93, 81, 77, np.nan]\n",
    "}\n",
    "\n",
    "df = pd.DataFrame(data)\n",
    "print('\\n print first 5 rows of the dataframe')\n",
    "df.head(6)\n",
    "print\n",
    "df.tail(10)"
   ]
  },
  {
   "cell_type": "code",
   "execution_count": 5,
   "id": "4d009c3d",
   "metadata": {},
   "outputs": [
    {
     "name": "stdout",
     "output_type": "stream",
     "text": [
      "<class 'pandas.core.frame.DataFrame'>\n",
      "RangeIndex: 20 entries, 0 to 19\n",
      "Data columns (total 7 columns):\n",
      " #   Column             Non-Null Count  Dtype  \n",
      "---  ------             --------------  -----  \n",
      " 0   Employee_ID        20 non-null     int64  \n",
      " 1   Name               20 non-null     object \n",
      " 2   Department         17 non-null     object \n",
      " 3   Salary             16 non-null     float64\n",
      " 4   Age                18 non-null     float64\n",
      " 5   Experience_Years   18 non-null     float64\n",
      " 6   Performance_Score  17 non-null     float64\n",
      "dtypes: float64(4), int64(1), object(2)\n",
      "memory usage: 1.2+ KB\n"
     ]
    }
   ],
   "source": [
    "df.info()"
   ]
  },
  {
   "cell_type": "code",
   "execution_count": 7,
   "id": "14d4e98b",
   "metadata": {},
   "outputs": [
    {
     "data": {
      "text/plain": [
       "(20, 7)"
      ]
     },
     "execution_count": 7,
     "metadata": {},
     "output_type": "execute_result"
    }
   ],
   "source": [
    "df.shape"
   ]
  },
  {
   "cell_type": "code",
   "execution_count": 8,
   "id": "f502056d",
   "metadata": {},
   "outputs": [
    {
     "data": {
      "text/html": [
       "<div>\n",
       "<style scoped>\n",
       "    .dataframe tbody tr th:only-of-type {\n",
       "        vertical-align: middle;\n",
       "    }\n",
       "\n",
       "    .dataframe tbody tr th {\n",
       "        vertical-align: top;\n",
       "    }\n",
       "\n",
       "    .dataframe thead th {\n",
       "        text-align: right;\n",
       "    }\n",
       "</style>\n",
       "<table border=\"1\" class=\"dataframe\">\n",
       "  <thead>\n",
       "    <tr style=\"text-align: right;\">\n",
       "      <th></th>\n",
       "      <th>Employee_ID</th>\n",
       "      <th>Salary</th>\n",
       "      <th>Age</th>\n",
       "      <th>Experience_Years</th>\n",
       "      <th>Performance_Score</th>\n",
       "    </tr>\n",
       "  </thead>\n",
       "  <tbody>\n",
       "    <tr>\n",
       "      <th>count</th>\n",
       "      <td>20.00000</td>\n",
       "      <td>16.000000</td>\n",
       "      <td>18.000000</td>\n",
       "      <td>18.000000</td>\n",
       "      <td>17.000000</td>\n",
       "    </tr>\n",
       "    <tr>\n",
       "      <th>mean</th>\n",
       "      <td>1010.50000</td>\n",
       "      <td>60000.000000</td>\n",
       "      <td>32.111111</td>\n",
       "      <td>7.388889</td>\n",
       "      <td>85.470588</td>\n",
       "    </tr>\n",
       "    <tr>\n",
       "      <th>std</th>\n",
       "      <td>5.91608</td>\n",
       "      <td>7907.802055</td>\n",
       "      <td>4.574725</td>\n",
       "      <td>3.712283</td>\n",
       "      <td>5.896160</td>\n",
       "    </tr>\n",
       "    <tr>\n",
       "      <th>min</th>\n",
       "      <td>1001.00000</td>\n",
       "      <td>50000.000000</td>\n",
       "      <td>26.000000</td>\n",
       "      <td>2.000000</td>\n",
       "      <td>76.000000</td>\n",
       "    </tr>\n",
       "    <tr>\n",
       "      <th>25%</th>\n",
       "      <td>1005.75000</td>\n",
       "      <td>53750.000000</td>\n",
       "      <td>29.000000</td>\n",
       "      <td>4.250000</td>\n",
       "      <td>81.000000</td>\n",
       "    </tr>\n",
       "    <tr>\n",
       "      <th>50%</th>\n",
       "      <td>1010.50000</td>\n",
       "      <td>58500.000000</td>\n",
       "      <td>31.000000</td>\n",
       "      <td>7.000000</td>\n",
       "      <td>86.000000</td>\n",
       "    </tr>\n",
       "    <tr>\n",
       "      <th>75%</th>\n",
       "      <td>1015.25000</td>\n",
       "      <td>65750.000000</td>\n",
       "      <td>34.750000</td>\n",
       "      <td>9.750000</td>\n",
       "      <td>90.000000</td>\n",
       "    </tr>\n",
       "    <tr>\n",
       "      <th>max</th>\n",
       "      <td>1020.00000</td>\n",
       "      <td>75000.000000</td>\n",
       "      <td>42.000000</td>\n",
       "      <td>15.000000</td>\n",
       "      <td>95.000000</td>\n",
       "    </tr>\n",
       "  </tbody>\n",
       "</table>\n",
       "</div>"
      ],
      "text/plain": [
       "       Employee_ID        Salary        Age  Experience_Years  \\\n",
       "count     20.00000     16.000000  18.000000         18.000000   \n",
       "mean    1010.50000  60000.000000  32.111111          7.388889   \n",
       "std        5.91608   7907.802055   4.574725          3.712283   \n",
       "min     1001.00000  50000.000000  26.000000          2.000000   \n",
       "25%     1005.75000  53750.000000  29.000000          4.250000   \n",
       "50%     1010.50000  58500.000000  31.000000          7.000000   \n",
       "75%     1015.25000  65750.000000  34.750000          9.750000   \n",
       "max     1020.00000  75000.000000  42.000000         15.000000   \n",
       "\n",
       "       Performance_Score  \n",
       "count          17.000000  \n",
       "mean           85.470588  \n",
       "std             5.896160  \n",
       "min            76.000000  \n",
       "25%            81.000000  \n",
       "50%            86.000000  \n",
       "75%            90.000000  \n",
       "max            95.000000  "
      ]
     },
     "execution_count": 8,
     "metadata": {},
     "output_type": "execute_result"
    }
   ],
   "source": [
    "df.describe()"
   ]
  },
  {
   "cell_type": "code",
   "execution_count": 9,
   "id": "ed016703",
   "metadata": {},
   "outputs": [
    {
     "data": {
      "text/plain": [
       "Employee_ID          0\n",
       "Name                 0\n",
       "Department           3\n",
       "Salary               4\n",
       "Age                  2\n",
       "Experience_Years     2\n",
       "Performance_Score    3\n",
       "dtype: int64"
      ]
     },
     "execution_count": 9,
     "metadata": {},
     "output_type": "execute_result"
    }
   ],
   "source": [
    "df.isnull().sum()"
   ]
  },
  {
   "cell_type": "markdown",
   "id": "a05ba108",
   "metadata": {},
   "source": [
    " How to identify null values in the dataframe?"
   ]
  },
  {
   "cell_type": "code",
   "execution_count": 11,
   "id": "78e60a80",
   "metadata": {},
   "outputs": [
    {
     "name": "stdout",
     "output_type": "stream",
     "text": [
      "\n",
      " Null values in each column\n",
      "Employee_ID          0\n",
      "Name                 0\n",
      "Department           3\n",
      "Salary               4\n",
      "Age                  2\n",
      "Experience_Years     2\n",
      "Performance_Score    3\n",
      "dtype: int64\n",
      "\n",
      " Total null values in the dataframe: 14\n"
     ]
    }
   ],
   "source": [
    "null_values = df.isnull().sum()\n",
    "print('\\n Null values in each column')\n",
    "print(null_values)\n",
    "print('\\n Total null values in the dataframe:', null_values.sum())\n"
   ]
  },
  {
   "cell_type": "code",
   "execution_count": 12,
   "id": "212550ce",
   "metadata": {},
   "outputs": [
    {
     "name": "stdout",
     "output_type": "stream",
     "text": [
      "\n",
      "Has any null values: True\n",
      "\n",
      "Null percentage per column:\n",
      "Employee_ID           0.0\n",
      "Name                  0.0\n",
      "Department           15.0\n",
      "Salary               20.0\n",
      "Age                  10.0\n",
      "Experience_Years     10.0\n",
      "Performance_Score    15.0\n",
      "dtype: float64\n"
     ]
    }
   ],
   "source": [
    "# Method 2: Check if any null values exist\n",
    "has_nulls = df.isnull().any().any()\n",
    "print(f\"\\nHas any null values: {has_nulls}\")\n",
    "\n",
    "# Method 3: Get percentage of null values\n",
    "null_percentage = (df.isnull().sum() / len(df)) * 100\n",
    "print(\"\\nNull percentage per column:\")\n",
    "print(null_percentage)"
   ]
  }
 ],
 "metadata": {
  "kernelspec": {
   "display_name": "ds_env",
   "language": "python",
   "name": "python3"
  },
  "language_info": {
   "codemirror_mode": {
    "name": "ipython",
    "version": 3
   },
   "file_extension": ".py",
   "mimetype": "text/x-python",
   "name": "python",
   "nbconvert_exporter": "python",
   "pygments_lexer": "ipython3",
   "version": "3.12.5"
  }
 },
 "nbformat": 4,
 "nbformat_minor": 5
}
