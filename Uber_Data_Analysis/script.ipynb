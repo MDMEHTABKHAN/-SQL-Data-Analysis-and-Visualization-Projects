{
 "cells": [
  {
   "cell_type": "code",
   "execution_count": 1,
   "id": "038fb6d6",
   "metadata": {},
   "outputs": [],
   "source": [
    "import numpy as np\n",
    "import pandas as pd\n",
    "import matplotlib.pyplot as plt"
   ]
  },
  {
   "cell_type": "code",
   "execution_count": 7,
   "id": "53e1cb1b",
   "metadata": {},
   "outputs": [
    {
     "name": "stdout",
     "output_type": "stream",
     "text": [
      "Null values in each column:\n"
     ]
    },
    {
     "data": {
      "text/plain": [
       "Date                                      0\n",
       "Time                                      0\n",
       "Booking ID                                0\n",
       "Booking Status                            0\n",
       "Customer ID                               0\n",
       "Vehicle Type                              0\n",
       "Pickup Location                           0\n",
       "Drop Location                             0\n",
       "Avg VTAT                              10500\n",
       "Avg CTAT                              48000\n",
       "Cancelled Rides by Customer          139500\n",
       "Reason for cancelling by Customer    139500\n",
       "Cancelled Rides by Driver            123000\n",
       "Driver Cancellation Reason           123000\n",
       "Incomplete Rides                     141000\n",
       "Incomplete Rides Reason              141000\n",
       "Booking Value                         48000\n",
       "Ride Distance                         48000\n",
       "Driver Ratings                        57000\n",
       "Customer Rating                       57000\n",
       "Payment Method                        48000\n",
       "dtype: int64"
      ]
     },
     "execution_count": 7,
     "metadata": {},
     "output_type": "execute_result"
    }
   ],
   "source": [
    "df = pd.read_csv('ncr_ride_bookings.csv')\n",
    "# df.head()\n",
    "# df.tail(8)\n",
    "# df.info()\n",
    "# df.describe()\n",
    "\n",
    "print('Null values in each column:')\n",
    "df.isnull().sum()"
   ]
  },
  {
   "cell_type": "code",
   "execution_count": 8,
   "id": "e4ade2d2",
   "metadata": {},
   "outputs": [
    {
     "name": "stdout",
     "output_type": "stream",
     "text": [
      "\n",
      " shape of the dataframe: (150000, 21)\n"
     ]
    }
   ],
   "source": [
    "print('\\n shape of the dataframe:', df.shape)"
   ]
  }
 ],
 "metadata": {
  "kernelspec": {
   "display_name": "ds_env",
   "language": "python",
   "name": "python3"
  },
  "language_info": {
   "codemirror_mode": {
    "name": "ipython",
    "version": 3
   },
   "file_extension": ".py",
   "mimetype": "text/x-python",
   "name": "python",
   "nbconvert_exporter": "python",
   "pygments_lexer": "ipython3",
   "version": "3.12.5"
  }
 },
 "nbformat": 4,
 "nbformat_minor": 5
}
