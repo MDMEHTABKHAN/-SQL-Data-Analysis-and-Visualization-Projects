{
 "cells": [
  {
   "cell_type": "code",
   "execution_count": 1,
   "id": "21af5a5c",
   "metadata": {},
   "outputs": [],
   "source": [
    "import pandas as pd"
   ]
  },
  {
   "cell_type": "code",
   "execution_count": 3,
   "id": "c09166cd",
   "metadata": {},
   "outputs": [],
   "source": [
    "data = {\n",
    "    \"ID\": [1, 2, 3, 4],\n",
    "    \"Name\": [\"Alice\", \"Bob\", \"Charlie\", \"David\"],\n",
    "    \"Age\": [25, 30, 35, 28],\n",
    "    \"City\": [\"Delhi\", \"Mumbai\", \"Kolkata\", \"Chennai\"]\n",
    "}\n",
    "df = pd.DataFrame(data)"
   ]
  },
  {
   "cell_type": "code",
   "execution_count": 5,
   "id": "36453afe",
   "metadata": {},
   "outputs": [],
   "source": [
    "# save in csv\n",
    "\n",
    "df.to_csv('poeple.csv', index =False)"
   ]
  },
  {
   "cell_type": "code",
   "execution_count": 6,
   "id": "341e6d7a",
   "metadata": {},
   "outputs": [],
   "source": [
    "# save in JSON\n",
    "\n",
    "df.to_json('poeple.json', index = False)"
   ]
  }
 ],
 "metadata": {
  "kernelspec": {
   "display_name": "ds_env",
   "language": "python",
   "name": "python3"
  },
  "language_info": {
   "codemirror_mode": {
    "name": "ipython",
    "version": 3
   },
   "file_extension": ".py",
   "mimetype": "text/x-python",
   "name": "python",
   "nbconvert_exporter": "python",
   "pygments_lexer": "ipython3",
   "version": "3.12.5"
  }
 },
 "nbformat": 4,
 "nbformat_minor": 5
}
