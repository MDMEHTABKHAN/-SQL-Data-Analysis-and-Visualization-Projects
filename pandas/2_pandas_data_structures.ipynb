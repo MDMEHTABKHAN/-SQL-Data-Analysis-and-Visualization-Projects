{
 "cells": [
  {
   "cell_type": "code",
   "execution_count": 1,
   "id": "24ad314b",
   "metadata": {},
   "outputs": [],
   "source": [
    "import numpy as np\n",
    "import pandas as pd"
   ]
  },
  {
   "cell_type": "code",
   "execution_count": 2,
   "id": "c85d5d32",
   "metadata": {},
   "outputs": [
    {
     "name": "stdout",
     "output_type": "stream",
     "text": [
      "0    10\n",
      "1    20\n",
      "2    30\n",
      "3    40\n",
      "dtype: int64\n",
      "a    1\n",
      "b    2\n",
      "c    3\n",
      "d    4\n",
      "dtype: int64\n",
      "a    100\n",
      "b    200\n",
      "c    300\n",
      "dtype: int64\n"
     ]
    }
   ],
   "source": [
    "# From a list\n",
    "s1 = pd.Series([10, 20, 30, 40])\n",
    "\n",
    "# From NumPy array\n",
    "s2 = pd.Series(np.array([1, 2, 3, 4]), index=['a', 'b', 'c', 'd'])\n",
    "\n",
    "# From dictionary\n",
    "s3 = pd.Series({\"a\": 100, \"b\": 200, \"c\": 300})\n",
    "\n",
    "print(s1)\n",
    "print(s2)\n",
    "print(s3)"
   ]
  },
  {
   "cell_type": "code",
   "execution_count": 3,
   "id": "4860366b",
   "metadata": {},
   "outputs": [
    {
     "name": "stdout",
     "output_type": "stream",
     "text": [
      "2\n",
      "2\n",
      "b    2\n",
      "c    3\n",
      "dtype: int64\n",
      "a    1\n",
      "c    3\n",
      "dtype: int64\n"
     ]
    },
    {
     "name": "stderr",
     "output_type": "stream",
     "text": [
      "C:\\Users\\mdmeh\\AppData\\Local\\Temp\\ipykernel_25192\\703097208.py:3: FutureWarning: Series.__getitem__ treating keys as positions is deprecated. In a future version, integer keys will always be treated as labels (consistent with DataFrame behavior). To access a value by position, use `ser.iloc[pos]`\n",
      "  print(s2[1])         # Access by position → 2\n"
     ]
    }
   ],
   "source": [
    "# Indexing\n",
    "print(s2['b'])       # Access by label → 2\n",
    "print(s2[1])         # Access by position → 2\n",
    "\n",
    "# Slicing\n",
    "print(s2[1:3])       # Position-based slicing\n",
    "print(s2[['a', 'c']]) # Label-based selection\n"
   ]
  },
  {
   "cell_type": "code",
   "execution_count": 4,
   "id": "6555d35a",
   "metadata": {},
   "outputs": [
    {
     "name": "stdout",
     "output_type": "stream",
     "text": [
      "Index(['a', 'b', 'c', 'd'], dtype='object')\n",
      "[1 2 3 4]\n",
      "int64\n",
      "(4,)\n"
     ]
    }
   ],
   "source": [
    "print(s2.index)   # Index object\n",
    "print(s2.values)  # Values as NumPy array\n",
    "print(s2.dtype)   # Data type\n",
    "print(s2.shape)   # Shape (length,)\n"
   ]
  },
  {
   "cell_type": "code",
   "execution_count": 5,
   "id": "2defd063",
   "metadata": {},
   "outputs": [
    {
     "name": "stdout",
     "output_type": "stream",
     "text": [
      "      Name  Age     City\n",
      "0    Alice   25       NY\n",
      "1      Bob   30       LA\n",
      "2  Charlie   35  Chicago\n",
      "   A  B\n",
      "0  1  2\n",
      "1  3  4\n",
      "    X   Y\n",
      "0  10  20\n",
      "1  30  40\n"
     ]
    }
   ],
   "source": [
    "# From dictionary\n",
    "data = {\n",
    "    \"Name\": [\"Alice\", \"Bob\", \"Charlie\"],\n",
    "    \"Age\": [25, 30, 35],\n",
    "    \"City\": [\"NY\", \"LA\", \"Chicago\"]\n",
    "}\n",
    "df1 = pd.DataFrame(data)\n",
    "\n",
    "# From list of lists\n",
    "df2 = pd.DataFrame([[1, 2], [3, 4]], columns=[\"A\", \"B\"])\n",
    "\n",
    "# From NumPy array\n",
    "arr = np.array([[10, 20], [30, 40]])\n",
    "df3 = pd.DataFrame(arr, columns=[\"X\", \"Y\"])\n",
    "\n",
    "# From CSV file\n",
    "# df4 = pd.read_csv(\"data.csv\")\n",
    "\n",
    "print(df1)\n",
    "print(df2)\n",
    "print(df3)\n"
   ]
  }
 ],
 "metadata": {
  "kernelspec": {
   "display_name": "ds_env",
   "language": "python",
   "name": "python3"
  },
  "language_info": {
   "codemirror_mode": {
    "name": "ipython",
    "version": 3
   },
   "file_extension": ".py",
   "mimetype": "text/x-python",
   "name": "python",
   "nbconvert_exporter": "python",
   "pygments_lexer": "ipython3",
   "version": "3.12.5"
  }
 },
 "nbformat": 4,
 "nbformat_minor": 5
}
