{
 "cells": [
  {
   "cell_type": "code",
   "execution_count": 15,
   "id": "47fca5dc",
   "metadata": {},
   "outputs": [
    {
     "name": "stdout",
     "output_type": "stream",
     "text": [
      "0    John\n",
      "1    Emma\n",
      "2     Sam\n",
      "Name: Name, dtype: object\n"
     ]
    }
   ],
   "source": [
    "import pandas as pd\n",
    "\n",
    "data = {\n",
    "    'Name': ['John', 'Emma', 'Sam'],\n",
    "    'Age': [28, 32, 25],\n",
    "    'Department': ['HR', 'IT', 'Finance']\n",
    "}\n",
    "df = pd.DataFrame(data)\n",
    "\n",
    "# Single column returns a Series\n",
    "print(df['Name'])\n"
   ]
  },
  {
   "cell_type": "code",
   "execution_count": 2,
   "id": "1833ec7e",
   "metadata": {},
   "outputs": [
    {
     "name": "stdout",
     "output_type": "stream",
     "text": [
      "   Name Department\n",
      "0  John         HR\n",
      "1  Emma         IT\n",
      "2   Sam    Finance\n",
      "   Name Department  Age\n",
      "0  John         HR   28\n",
      "1  Emma         IT   32\n",
      "2   Sam    Finance   25\n"
     ]
    }
   ],
   "source": [
    "print(df[['Name', 'Department']])\n",
    "\n",
    "print(df[['Name', 'Department', 'Age']])"
   ]
  },
  {
   "cell_type": "markdown",
   "id": "3fc3ee64",
   "metadata": {},
   "source": [
    "# Selecting Rows"
   ]
  },
  {
   "cell_type": "code",
   "execution_count": 3,
   "id": "3355a8fb",
   "metadata": {},
   "outputs": [
    {
     "name": "stdout",
     "output_type": "stream",
     "text": [
      "Name          John\n",
      "Age             28\n",
      "Department      HR\n",
      "Name: 0, dtype: object\n",
      "   Name  Age Department\n",
      "0  John   28         HR\n",
      "1  Emma   32         IT\n"
     ]
    }
   ],
   "source": [
    "# iloc[row_index, column_index]\n",
    "\n",
    "# Index starts from 0\n",
    "# First row\n",
    "print(df.iloc[0])\n",
    "\n",
    "# First two rows\n",
    "print(df.iloc[0:2])\n"
   ]
  },
  {
   "cell_type": "markdown",
   "id": "c098f181",
   "metadata": {},
   "source": [
    "# Using loc[] → label-based indexing\n",
    "\n",
    "# loc[row_label, column_label]\n",
    "\n",
    "# Works great if you set a custom index"
   ]
  },
  {
   "cell_type": "markdown",
   "id": "d7ba6331",
   "metadata": {},
   "source": [
    "<!-- Using loc[] → label-based indexing\n",
    "\n",
    "loc[row_label, column_label]\n",
    "\n",
    "Works great if you set a custom index -->"
   ]
  },
  {
   "cell_type": "code",
   "execution_count": 16,
   "id": "de8e3d5a",
   "metadata": {},
   "outputs": [
    {
     "name": "stdout",
     "output_type": "stream",
     "text": [
      "Age           32\n",
      "Department    IT\n",
      "Name: Emma, dtype: object\n",
      "      Age Department\n",
      "Name                \n",
      "Emma   32         IT\n",
      "Sam    25    Finance\n"
     ]
    }
   ],
   "source": [
    "df.set_index('Name', inplace=True)\n",
    "\n",
    "# Access row for 'Emma'\n",
    "print(df.loc['Emma'])\n",
    "\n",
    "# Access row for 'Emma' and 'Sam'\n",
    "print(df.loc[['Emma', 'Sam']])\n",
    "\n"
   ]
  },
  {
   "cell_type": "code",
   "execution_count": 17,
   "id": "c8b4ff65",
   "metadata": {},
   "outputs": [
    {
     "name": "stdout",
     "output_type": "stream",
     "text": [
      "      Age Department\n",
      "Name                \n",
      "John   28         HR\n",
      "Emma   32         IT\n"
     ]
    }
   ],
   "source": [
    "# First 2 rows and first 2 columns\n",
    "print(df.iloc[0:2, 0:2])\n"
   ]
  },
  {
   "cell_type": "markdown",
   "id": "0532bd7b",
   "metadata": {},
   "source": [
    "# Practice Questions"
   ]
  },
  {
   "cell_type": "code",
   "execution_count": 33,
   "id": "08f975cf",
   "metadata": {},
   "outputs": [],
   "source": [
    "data = {\n",
    "    'Name':['John', 'Emma', 'Sam'],\n",
    "    'Age':[28,32,25],\n",
    "    'department':['HR', 'IT', 'Sam']\n",
    "}\n",
    "\n",
    "df = pd.DataFrame(data)\n",
    "df\n",
    "df.set_index('Name', inplace=True)  # Set Name as index"
   ]
  },
  {
   "cell_type": "code",
   "execution_count": 22,
   "id": "b895e947",
   "metadata": {},
   "outputs": [
    {
     "data": {
      "text/plain": [
       "0    28\n",
       "1    32\n",
       "2    25\n",
       "Name: Age, dtype: int64"
      ]
     },
     "execution_count": 22,
     "metadata": {},
     "output_type": "execute_result"
    }
   ],
   "source": [
    "# Select only the Age column.\n",
    "df['Age']\n"
   ]
  },
  {
   "cell_type": "code",
   "execution_count": 23,
   "id": "0179e807",
   "metadata": {},
   "outputs": [
    {
     "data": {
      "text/html": [
       "<div>\n",
       "<style scoped>\n",
       "    .dataframe tbody tr th:only-of-type {\n",
       "        vertical-align: middle;\n",
       "    }\n",
       "\n",
       "    .dataframe tbody tr th {\n",
       "        vertical-align: top;\n",
       "    }\n",
       "\n",
       "    .dataframe thead th {\n",
       "        text-align: right;\n",
       "    }\n",
       "</style>\n",
       "<table border=\"1\" class=\"dataframe\">\n",
       "  <thead>\n",
       "    <tr style=\"text-align: right;\">\n",
       "      <th></th>\n",
       "      <th>Name</th>\n",
       "      <th>department</th>\n",
       "    </tr>\n",
       "  </thead>\n",
       "  <tbody>\n",
       "    <tr>\n",
       "      <th>0</th>\n",
       "      <td>John</td>\n",
       "      <td>HR</td>\n",
       "    </tr>\n",
       "    <tr>\n",
       "      <th>1</th>\n",
       "      <td>Emma</td>\n",
       "      <td>IT</td>\n",
       "    </tr>\n",
       "    <tr>\n",
       "      <th>2</th>\n",
       "      <td>Sam</td>\n",
       "      <td>Sam</td>\n",
       "    </tr>\n",
       "  </tbody>\n",
       "</table>\n",
       "</div>"
      ],
      "text/plain": [
       "   Name department\n",
       "0  John         HR\n",
       "1  Emma         IT\n",
       "2   Sam        Sam"
      ]
     },
     "execution_count": 23,
     "metadata": {},
     "output_type": "execute_result"
    }
   ],
   "source": [
    "# Select Name and Department columns.\n",
    "df[['Name', 'department']]"
   ]
  },
  {
   "cell_type": "code",
   "execution_count": 31,
   "id": "901412ae",
   "metadata": {},
   "outputs": [
    {
     "name": "stdout",
     "output_type": "stream",
     "text": [
      "Age           32\n",
      "department    IT\n",
      "Name: Emma, dtype: object\n",
      "Age           28\n",
      "department    HR\n",
      "Name: John, dtype: object\n"
     ]
    }
   ],
   "source": [
    "# Select the row for Emma using loc.\n",
    "\n",
    "print(df.loc['Emma'])\n",
    "\n",
    "\n",
    "print(df.iloc[0])\n"
   ]
  }
 ],
 "metadata": {
  "kernelspec": {
   "display_name": "ds_env",
   "language": "python",
   "name": "python3"
  },
  "language_info": {
   "codemirror_mode": {
    "name": "ipython",
    "version": 3
   },
   "file_extension": ".py",
   "mimetype": "text/x-python",
   "name": "python",
   "nbconvert_exporter": "python",
   "pygments_lexer": "ipython3",
   "version": "3.12.5"
  }
 },
 "nbformat": 4,
 "nbformat_minor": 5
}
