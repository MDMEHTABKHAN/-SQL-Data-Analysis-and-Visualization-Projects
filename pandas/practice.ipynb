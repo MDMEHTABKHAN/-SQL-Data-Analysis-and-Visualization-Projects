{
 "cells": [
  {
   "cell_type": "markdown",
   "id": "9b0f2c03",
   "metadata": {},
   "source": [
    "Series Practice:\n",
    "\n",
    "Create a Series of 10 numbers (1–10).\n",
    "\n",
    "Slice the Series to get only even numbers.\n",
    "\n",
    "Find the sum and mean of the Series."
   ]
  },
  {
   "cell_type": "code",
   "execution_count": 4,
   "id": "5aec3545",
   "metadata": {},
   "outputs": [],
   "source": [
    "import pandas as pd"
   ]
  },
  {
   "cell_type": "code",
   "execution_count": 12,
   "id": "c9b63a1d",
   "metadata": {},
   "outputs": [
    {
     "name": "stdout",
     "output_type": "stream",
     "text": [
      "1     2\n",
      "3     4\n",
      "5     6\n",
      "7     8\n",
      "9    10\n",
      "dtype: int64\n",
      "sum: 55\n",
      "Mean: 5.5\n"
     ]
    }
   ],
   "source": [
    "df = pd.Series([1,2,3,4,5,6,7,8,9,10])\n",
    "even_number = df[df % 2 == 0]\n",
    "print(even_number)\n",
    "\n",
    "print(\"sum:\",df.sum())\n",
    "print(\"Mean:\", df.mean())\n"
   ]
  },
  {
   "cell_type": "markdown",
   "id": "ba7eed96",
   "metadata": {},
   "source": [
    "DataFrame Practice:\n",
    "\n",
    "Create a DataFrame from a dictionary with columns Name, Age, City.\n",
    "\n",
    "Change column names to lowercase.\n",
    "\n",
    "Reset the index after dropping the first row.\n",
    "\n",
    "Select all rows where Age > 25.\n",
    "\n",
    "Add a new column Salary with random integers 30k–60k."
   ]
  },
  {
   "cell_type": "code",
   "execution_count": 23,
   "id": "ba81e4d8",
   "metadata": {},
   "outputs": [
    {
     "data": {
      "text/html": [
       "<div>\n",
       "<style scoped>\n",
       "    .dataframe tbody tr th:only-of-type {\n",
       "        vertical-align: middle;\n",
       "    }\n",
       "\n",
       "    .dataframe tbody tr th {\n",
       "        vertical-align: top;\n",
       "    }\n",
       "\n",
       "    .dataframe thead th {\n",
       "        text-align: right;\n",
       "    }\n",
       "</style>\n",
       "<table border=\"1\" class=\"dataframe\">\n",
       "  <thead>\n",
       "    <tr style=\"text-align: right;\">\n",
       "      <th></th>\n",
       "      <th>name</th>\n",
       "      <th>age</th>\n",
       "      <th>city</th>\n",
       "    </tr>\n",
       "  </thead>\n",
       "  <tbody>\n",
       "    <tr>\n",
       "      <th>0</th>\n",
       "      <td>John</td>\n",
       "      <td>23</td>\n",
       "      <td>USA</td>\n",
       "    </tr>\n",
       "    <tr>\n",
       "      <th>1</th>\n",
       "      <td>Bob</td>\n",
       "      <td>33</td>\n",
       "      <td>ENG</td>\n",
       "    </tr>\n",
       "    <tr>\n",
       "      <th>2</th>\n",
       "      <td>sam</td>\n",
       "      <td>24</td>\n",
       "      <td>IND</td>\n",
       "    </tr>\n",
       "  </tbody>\n",
       "</table>\n",
       "</div>"
      ],
      "text/plain": [
       "   name  age city\n",
       "0  John   23  USA\n",
       "1   Bob   33  ENG\n",
       "2   sam   24  IND"
      ]
     },
     "execution_count": 23,
     "metadata": {},
     "output_type": "execute_result"
    }
   ],
   "source": [
    "data = {\n",
    "    'Name':['John', 'Bob', 'sam'],\n",
    "    'Age':[23,33,24],\n",
    "    'City':['USA','ENG', 'IND']\n",
    "}\n",
    "\n",
    "df = pd.DataFrame(data)\n",
    "\n",
    "df.columns = df.columns.str.lower()\n",
    "\n",
    "df_dropped = df.drop(0).reset_index(drop=True)\n",
    "\n",
    "age_gt_25 = df[df['age'] > 25]\n",
    "\n",
    "df\n"
   ]
  }
 ],
 "metadata": {
  "kernelspec": {
   "display_name": "ds_env",
   "language": "python",
   "name": "python3"
  },
  "language_info": {
   "codemirror_mode": {
    "name": "ipython",
    "version": 3
   },
   "file_extension": ".py",
   "mimetype": "text/x-python",
   "name": "python",
   "nbconvert_exporter": "python",
   "pygments_lexer": "ipython3",
   "version": "3.12.5"
  }
 },
 "nbformat": 4,
 "nbformat_minor": 5
}
